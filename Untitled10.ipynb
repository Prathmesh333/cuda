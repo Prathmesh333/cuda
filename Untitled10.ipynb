{
  "nbformat": 4,
  "nbformat_minor": 0,
  "metadata": {
    "colab": {
      "provenance": [],
      "gpuType": "T4"
    },
    "kernelspec": {
      "name": "python3",
      "display_name": "Python 3"
    },
    "language_info": {
      "name": "python"
    },
    "accelerator": "GPU",
    "gpuClass": "standard"
  },
  "cells": [
    {
      "cell_type": "code",
      "execution_count": 1,
      "metadata": {
        "colab": {
          "base_uri": "https://localhost:8080/"
        },
        "id": "eaS1g241OMPm",
        "outputId": "47cc0e22-a02e-4ff2-a7c3-f4af0bd9c933"
      },
      "outputs": [
        {
          "output_type": "stream",
          "name": "stdout",
          "text": [
            "Looking in indexes: https://pypi.org/simple, https://us-python.pkg.dev/colab-wheels/public/simple/\n",
            "Collecting git+https://github.com/andreinechaev/nvcc4jupyter.git\n",
            "  Cloning https://github.com/andreinechaev/nvcc4jupyter.git to /tmp/pip-req-build-0vtidhht\n",
            "  Running command git clone --filter=blob:none --quiet https://github.com/andreinechaev/nvcc4jupyter.git /tmp/pip-req-build-0vtidhht\n",
            "  Resolved https://github.com/andreinechaev/nvcc4jupyter.git to commit aac710a35f52bb78ab34d2e52517237941399eff\n",
            "  Preparing metadata (setup.py) ... \u001b[?25l\u001b[?25hdone\n",
            "Building wheels for collected packages: NVCCPlugin\n",
            "  Building wheel for NVCCPlugin (setup.py) ... \u001b[?25l\u001b[?25hdone\n",
            "  Created wheel for NVCCPlugin: filename=NVCCPlugin-0.0.2-py3-none-any.whl size=4287 sha256=9db6faf0cb82abfa3df7a122628df5a10687c975331fd3c4054406a9fa75d450\n",
            "  Stored in directory: /tmp/pip-ephem-wheel-cache-hcx4kkwv/wheels/a8/b9/18/23f8ef71ceb0f63297dd1903aedd067e6243a68ea756d6feea\n",
            "Successfully built NVCCPlugin\n",
            "Installing collected packages: NVCCPlugin\n",
            "Successfully installed NVCCPlugin-0.0.2\n"
          ]
        }
      ],
      "source": [
        "!pip install git+https://github.com/andreinechaev/nvcc4jupyter.git"
      ]
    },
    {
      "cell_type": "code",
      "source": [
        "%load_ext nvcc_plugin"
      ],
      "metadata": {
        "colab": {
          "base_uri": "https://localhost:8080/"
        },
        "id": "-BccRR35RT2c",
        "outputId": "a69fc255-6a33-437f-b81a-1e42d4613d76"
      },
      "execution_count": 2,
      "outputs": [
        {
          "output_type": "stream",
          "name": "stdout",
          "text": [
            "created output directory at /content/src\n",
            "Out bin /content/result.out\n"
          ]
        }
      ]
    },
    {
      "cell_type": "code",
      "source": [
        "%%cu\n",
        "#include <stdio.h>\n",
        "\n",
        "\n",
        "\n",
        "// CUDA kernel for vector addition\n",
        "__global__ void vectorAddition(float *a, float *b, float *c, int size) {\n",
        "    int idx = blockIdx.x * blockDim.x + threadIdx.x;\n",
        "    if (idx < size) {\n",
        "        c[idx] = a[idx] + b[idx];\n",
        "    }\n",
        "}\n",
        "\n",
        "int main() {\n",
        "    int size = 1000000;  // Size of the vectors\n",
        "    int memSize = size * sizeof(float);\n",
        "\n",
        "    // Allocate memory for host vectors\n",
        "    float *h_a = (float*)malloc(memSize);\n",
        "    float *h_b = (float*)malloc(memSize);\n",
        "    float *h_c = (float*)malloc(memSize);\n",
        "\n",
        "    // Initialize host vectors\n",
        "    for (int i = 0; i < size; i++) {\n",
        "        h_a[i] = i;\n",
        "        h_b[i] = i * 2;\n",
        "    }\n",
        "\n",
        "    // Allocate memory for device vectors\n",
        "    float *d_a, *d_b, *d_c;\n",
        "    cudaMalloc((void**)&d_a, memSize);\n",
        "    cudaMalloc((void**)&d_b, memSize);\n",
        "    cudaMalloc((void**)&d_c, memSize);\n",
        "\n",
        "    // Copy host vectors to device\n",
        "    cudaMemcpy(d_a, h_a, memSize, cudaMemcpyHostToDevice);\n",
        "    cudaMemcpy(d_b, h_b, memSize, cudaMemcpyHostToDevice);\n",
        "\n",
        "    // Define grid and block dimensions\n",
        "    int blockSize = 256;\n",
        "    int gridSize = (size + blockSize - 1) / blockSize;\n",
        "\n",
        "    // Launch the kernel\n",
        "    vectorAddition<<<gridSize, blockSize>>>(d_a, d_b, d_c, size);\n",
        "\n",
        "    // Copy result back to host\n",
        "    cudaMemcpy(h_c, d_c, memSize, cudaMemcpyDeviceToHost);\n",
        "\n",
        "    // Print the result\n",
        "    for (int i = 0; i < 10; i++) {\n",
        "        printf(\"%f + %f = %f\\n\", h_a[i], h_b[i], h_c[i]);\n",
        "    }\n",
        "\n",
        "    // Free device memory\n",
        "    cudaFree(d_a);\n",
        "    cudaFree(d_b);\n",
        "    cudaFree(d_c);\n",
        "\n",
        "    // Free host memory\n",
        "    free(h_a);\n",
        "    free(h_b);\n",
        "    free(h_c);\n",
        "\n",
        "    return 0;\n",
        "}"
      ],
      "metadata": {
        "colab": {
          "base_uri": "https://localhost:8080/"
        },
        "id": "KcCjcTtjOry_",
        "outputId": "1c2991f8-e052-44a4-b61f-8140604968a1"
      },
      "execution_count": 6,
      "outputs": [
        {
          "output_type": "stream",
          "name": "stdout",
          "text": [
            "0.000000 + 0.000000 = 0.000000\n",
            "1.000000 + 2.000000 = 3.000000\n",
            "2.000000 + 4.000000 = 6.000000\n",
            "3.000000 + 6.000000 = 9.000000\n",
            "4.000000 + 8.000000 = 12.000000\n",
            "5.000000 + 10.000000 = 15.000000\n",
            "6.000000 + 12.000000 = 18.000000\n",
            "7.000000 + 14.000000 = 21.000000\n",
            "8.000000 + 16.000000 = 24.000000\n",
            "9.000000 + 18.000000 = 27.000000\n",
            "\n"
          ]
        }
      ]
    },
    {
      "cell_type": "code",
      "source": [
        "%%cu\n",
        "#include <stdio.h>\n",
        "\n",
        "#define N 1024   // Size of the matrices\n",
        "\n",
        "// CUDA kernel for matrix multiplication\n",
        "__global__ void matrixMultiplication(int *a, int *b, int *c) {\n",
        "    int row = blockIdx.y * blockDim.y + threadIdx.y;\n",
        "    int col = blockIdx.x * blockDim.x + threadIdx.x;\n",
        "\n",
        "    int sum = 0;\n",
        "    for (int i = 0; i < N; i++) {\n",
        "        sum += a[row * N + i] * b[i * N + col];\n",
        "    }\n",
        "\n",
        "    c[row * N + col] = sum;\n",
        "}\n",
        "\n",
        "int main() {\n",
        "    int memSize = N * N * sizeof(int);\n",
        "\n",
        "    // Allocate memory for host matrices\n",
        "    int *h_a = (int*)malloc(memSize);\n",
        "    int *h_b = (int*)malloc(memSize);\n",
        "    int *h_c = (int*)malloc(memSize);\n",
        "\n",
        "    // Initialize host matrices\n",
        "    for (int i = 0; i < N; i++) {\n",
        "        for (int j = 0; j < N; j++) {\n",
        "            h_a[i * N + j] = i + j;\n",
        "            h_b[i * N + j] = i - j;\n",
        "        }\n",
        "    }\n",
        "\n",
        "    // Allocate memory for device matrices\n",
        "    int *d_a, *d_b, *d_c;\n",
        "    cudaMalloc((void**)&d_a, memSize);\n",
        "    cudaMalloc((void**)&d_b, memSize);\n",
        "    cudaMalloc((void**)&d_c, memSize);\n",
        "\n",
        "    // Copy host matrices to device\n",
        "    cudaMemcpy(d_a, h_a, memSize, cudaMemcpyHostToDevice);\n",
        "    cudaMemcpy(d_b, h_b, memSize, cudaMemcpyHostToDevice);\n",
        "\n",
        "    // Define grid and block dimensions\n",
        "    dim3 blockSize(16, 16);\n",
        "    dim3 gridSize((N + blockSize.x - 1) / blockSize.x, (N + blockSize.y - 1) / blockSize.y);\n",
        "\n",
        "    // Launch the kernel\n",
        "    matrixMultiplication<<<gridSize, blockSize>>>(d_a, d_b, d_c);\n",
        "\n",
        "    // Copy result back to host\n",
        "    cudaMemcpy(h_c, d_c, memSize, cudaMemcpyDeviceToHost);\n",
        "\n",
        "    // Print the result\n",
        "    for (int i = 0; i < 10; i++) {\n",
        "        for (int j = 0; j < 10; j++) {\n",
        "            printf(\"%d\\t\", h_c[i * N + j]);\n",
        "        }\n",
        "        printf(\"\\n\");\n",
        "    }\n",
        "\n",
        "    // Free device memory\n",
        "    cudaFree(d_a);\n",
        "    cudaFree(d_b);\n",
        "    cudaFree(d_c);\n",
        "\n",
        "    // Free host memory\n",
        "    free(h_a);\n",
        "    free(h_b);\n",
        "    free(h_c);\n",
        "\n",
        "    return 0;\n",
        "}"
      ],
      "metadata": {
        "colab": {
          "base_uri": "https://localhost:8080/"
        },
        "id": "fXP3TMgGO6I2",
        "outputId": "ad02feb7-763f-436d-d1fd-d00218dabdae"
      },
      "execution_count": 7,
      "outputs": [
        {
          "output_type": "stream",
          "name": "stdout",
          "text": [
            "357389824\t356866048\t356342272\t355818496\t355294720\t354770944\t354247168\t353723392\t353199616\t352675840\t\n",
            "357913600\t357388800\t356864000\t356339200\t355814400\t355289600\t354764800\t354240000\t353715200\t353190400\t\n",
            "358437376\t357911552\t357385728\t356859904\t356334080\t355808256\t355282432\t354756608\t354230784\t353704960\t\n",
            "358961152\t358434304\t357907456\t357380608\t356853760\t356326912\t355800064\t355273216\t354746368\t354219520\t\n",
            "359484928\t358957056\t358429184\t357901312\t357373440\t356845568\t356317696\t355789824\t355261952\t354734080\t\n",
            "360008704\t359479808\t358950912\t358422016\t357893120\t357364224\t356835328\t356306432\t355777536\t355248640\t\n",
            "360532480\t360002560\t359472640\t358942720\t358412800\t357882880\t357352960\t356823040\t356293120\t355763200\t\n",
            "361056256\t360525312\t359994368\t359463424\t358932480\t358401536\t357870592\t357339648\t356808704\t356277760\t\n",
            "361580032\t361048064\t360516096\t359984128\t359452160\t358920192\t358388224\t357856256\t357324288\t356792320\t\n",
            "362103808\t361570816\t361037824\t360504832\t359971840\t359438848\t358905856\t358372864\t357839872\t357306880\t\n",
            "\n"
          ]
        }
      ]
    },
    {
      "cell_type": "code",
      "source": [],
      "metadata": {
        "id": "MoYlgK9xSr-Y"
      },
      "execution_count": null,
      "outputs": []
    }
  ]
}